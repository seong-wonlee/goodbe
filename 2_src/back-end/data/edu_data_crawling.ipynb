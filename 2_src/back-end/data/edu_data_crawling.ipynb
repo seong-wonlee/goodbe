{
 "cells": [
  {
   "cell_type": "code",
   "execution_count": 1,
   "metadata": {},
   "outputs": [],
   "source": [
    "import requests\n",
    "from bs4 import BeautifulSoup\n",
    "import pandas as pd\n",
    "from collections import deque"
   ]
  },
  {
   "cell_type": "code",
   "execution_count": 2,
   "metadata": {},
   "outputs": [],
   "source": [
    "# 경로\n",
    "# job_api_path = r\"edu_api_key.txt\"\n",
    "edu_api_path = r\"C:\\SH\\공통프로젝트\\edu_api_key.txt\"\n",
    "# api key\n",
    "with open(edu_api_path, \"r\") as f:\n",
    "    api_key = f.read()"
   ]
  },
  {
   "cell_type": "code",
   "execution_count": 3,
   "metadata": {},
   "outputs": [
    {
     "name": "stdout",
     "output_type": "stream",
     "text": [
      "y2bfFRDvOhLt10LVoCszji0iFNdtB2lZ\n"
     ]
    }
   ],
   "source": [
    "print(api_key)"
   ]
  },
  {
   "cell_type": "code",
   "execution_count": 19,
   "metadata": {},
   "outputs": [],
   "source": [
    "# 데이터 집어넣을 곳\n",
    "edu_df = pd.DataFrame(columns=['trprId', 'TITLE', 'TITLE_LINK', 'SUB_TITLE', 'SUB_TITLE_LINK', 'TEL_NO', 'ADDRESS', 'content'])\n",
    "# trprId : 훈련과정 ID\n",
    "# TITLE : 훈련과정 이름\n",
    "# TITLE_LINK : 훈련과정 url\n",
    "# SUB_TITLE : 훈련기관 이름\n",
    "# SUB_TITLE_LINK : 훈련기관 url\n",
    "# TEL_NO : 훈련기관 전화번호\n",
    "# ADDRESS : 훈련기관 주소\n",
    "# content : 훈련 정보\n"
   ]
  },
  {
   "cell_type": "code",
   "execution_count": 30,
   "metadata": {},
   "outputs": [
    {
     "name": "stdout",
     "output_type": "stream",
     "text": [
      "<?xml version=\"1.0\" encoding=\"utf-8\"?>\n",
      "<HRDNet><pageNum>1</pageNum><pageSize>10</pageSize><scn_cnt>38</scn_cnt><srchList><scn_list><address/></scn_list></srchList></HRDNet>\n",
      "\n"
     ]
    }
   ],
   "source": [
    "page = 1\n",
    "page_size = 10\n",
    "api_url = f\"https://www.hrd.go.kr/jsp/HRDP/HRDPO00/HRDPOA60/HRDPOA60_1.jsp?returnType=XML&authKey={api_key}&pageNum={page}&pageSize={page_size}&srchTraStDt=20230807&srchTraEndDt=20230807&outType=1&sort=ASC&sortCol=TRNG_BGDE&crseTracseSe=C0054I,C0104,C0105&srchTraArea1=00\"\n",
    "req = requests.get(api_url).text\n",
    "soup = BeautifulSoup(req, 'xml')\n",
    "\n",
    "print(soup)\n",
    "scn_list = soup.select('HRDNet srchList scn_list')\n",
    "for item in scn_list:\n",
    "    address = item.select_one('address').text\n",
    "    print(address)"
   ]
  },
  {
   "cell_type": "code",
   "execution_count": 25,
   "metadata": {},
   "outputs": [
    {
     "name": "stdout",
     "output_type": "stream",
     "text": [
      "page : 1\n",
      "trprId :  \n",
      "trprId :  \n",
      "trprId :  \n",
      "trprId :  \n",
      "trprId :  \n",
      "trprId :  \n",
      "trprId :  \n",
      "trprId :  \n",
      "trprId :  \n",
      "trprId :  \n",
      "trprId :  \n",
      "trprId :  \n",
      "trprId :  \n",
      "trprId :  \n",
      "trprId :  \n",
      "trprId :  \n",
      "trprId :  \n",
      "trprId :  \n",
      "trprId :  \n",
      "trprId :  \n",
      "trprId :  \n",
      "trprId :  \n",
      "trprId :  \n",
      "trprId :  \n",
      "trprId :  \n",
      "trprId :  \n",
      "trprId :  \n",
      "trprId :  \n",
      "trprId :  \n",
      "trprId :  \n",
      "trprId :  \n",
      "trprId :  \n",
      "trprId :  \n",
      "trprId :  \n",
      "trprId :  \n",
      "trprId :  \n",
      "trprId :  \n",
      "trprId :  \n",
      "trprId :  \n",
      "trprId :  \n",
      "trprId :  \n",
      "trprId :  \n",
      "trprId :  \n",
      "trprId :  \n",
      "trprId :  \n",
      "trprId :  \n",
      "trprId :  \n",
      "trprId :  \n",
      "trprId :  \n",
      "trprId :  \n",
      "trprId :  \n",
      "trprId :  \n",
      "trprId :  \n",
      "trprId :  \n",
      "trprId :  \n",
      "trprId :  \n",
      "trprId :  \n",
      "trprId :  \n",
      "trprId :  \n",
      "trprId :  \n",
      "trprId :  \n",
      "trprId :  \n",
      "trprId :  \n",
      "trprId :  \n",
      "trprId :  \n",
      "trprId :  \n",
      "trprId :  \n",
      "trprId :  \n",
      "trprId :  \n",
      "trprId :  \n",
      "trprId :  \n",
      "trprId :  \n",
      "trprId :  \n",
      "trprId :  \n",
      "trprId :  \n",
      "trprId :  \n",
      "trprId :  \n",
      "trprId :  \n",
      "trprId :  \n",
      "trprId :  \n",
      "trprId :  \n",
      "trprId :  \n",
      "trprId :  \n",
      "trprId :  \n",
      "trprId :  \n",
      "trprId :  \n",
      "trprId :  \n",
      "trprId :  \n",
      "trprId :  \n",
      "trprId :  \n",
      "trprId :  \n",
      "trprId :  \n",
      "trprId :  \n",
      "trprId :  \n",
      "trprId :  \n",
      "trprId :  \n",
      "trprId :  \n",
      "trprId :  \n",
      "trprId :  \n",
      "trprId :  \n"
     ]
    },
    {
     "name": "stderr",
     "output_type": "stream",
     "text": [
      "c:\\Users\\SSAFY\\anaconda3\\Lib\\site-packages\\bs4\\builder\\__init__.py:545: XMLParsedAsHTMLWarning: It looks like you're parsing an XML document using an HTML parser. If this really is an HTML document (maybe it's XHTML?), you can ignore or filter this warning. If it's XML, you should know that using an XML parser will be more reliable. To parse this document as XML, make sure you have the lxml package installed, and pass the keyword argument `features=\"xml\"` into the BeautifulSoup constructor.\n",
      "  warnings.warn(\n"
     ]
    }
   ],
   "source": [
    "k = 0\n",
    "for page in range(1,2):\n",
    "    print(f\"page : {page}\")\n",
    "    api_url = f\"https://www.hrd.go.kr/jsp/HRDP/HRDPO00/HRDPOA60/HRDPOA60_1.jsp?returnType=XML&authKey={api_key}&pageNum={page}&pageSize=100&srchTraStDt=20230807&srchTraEndDt=20230907&outType=1&sort=ASC&sortCol=TRNG_BGDE&srchTraArea1=00&srchNcs1=20\"\n",
    "    cnt = 0\n",
    "    req = requests.get(api_url).text\n",
    "    soup = BeautifulSoup(req, 'lxml')\n",
    "    for i in soup.find_all(\"scn_list\"):\n",
    "        cnt += 1\n",
    "        try:\n",
    "            trprId = i.find(\"trprId\").get_text()\n",
    "        except:\n",
    "            trprId = \" \"\n",
    "        print(f\"trprId : {trprId}\")\n",
    "        try:\n",
    "            title = i.find(\"title\").get_text()\n",
    "        except:\n",
    "            title = \" \"\n",
    "        try:\n",
    "            title_link = i.find(\"TITLE_LINK\").get_text()\n",
    "        except:\n",
    "            title_link = \" \"\n",
    "        try:\n",
    "            sub_title = i.find(\"SUB_TITLE\").get_text()\n",
    "        except:\n",
    "            sub_title = \" \"\n",
    "        try:\n",
    "            sub_title_link = i.find(\"SUB_TITLE_LINK\").get_text()\n",
    "        except:\n",
    "            sub_title_link = \" \"\n",
    "        try:\n",
    "            tel_no = i.find(\"TEL_NO\").get_text()\n",
    "        except:\n",
    "            tel_no = \" \"\n",
    "        try:\n",
    "            address = i.find(\"ADDRESS\").get_text()\n",
    "        except:\n",
    "            address = \" \"\n",
    "        content = \" \"\n",
    "\n",
    "        edu_data_list = [trprId, title, title_link, sub_title, sub_title_link, tel_no, address, address]\n",
    "        \n",
    "        edu_df.loc[k] = edu_data_list\n",
    "        k += 1\n",
    "    if cnt == 0:\n",
    "        break"
   ]
  },
  {
   "cell_type": "code",
   "execution_count": 21,
   "metadata": {},
   "outputs": [
    {
     "data": {
      "text/plain": [
       "0"
      ]
     },
     "execution_count": 21,
     "metadata": {},
     "output_type": "execute_result"
    }
   ],
   "source": [
    "len(edu_df)"
   ]
  },
  {
   "cell_type": "code",
   "execution_count": 22,
   "metadata": {},
   "outputs": [
    {
     "data": {
      "text/html": [
       "<div>\n",
       "<style scoped>\n",
       "    .dataframe tbody tr th:only-of-type {\n",
       "        vertical-align: middle;\n",
       "    }\n",
       "\n",
       "    .dataframe tbody tr th {\n",
       "        vertical-align: top;\n",
       "    }\n",
       "\n",
       "    .dataframe thead th {\n",
       "        text-align: right;\n",
       "    }\n",
       "</style>\n",
       "<table border=\"1\" class=\"dataframe\">\n",
       "  <thead>\n",
       "    <tr style=\"text-align: right;\">\n",
       "      <th></th>\n",
       "      <th>trprId</th>\n",
       "      <th>TITLE</th>\n",
       "      <th>TITLE_LINK</th>\n",
       "      <th>SUB_TITLE</th>\n",
       "      <th>SUB_TITLE_LINK</th>\n",
       "      <th>TEL_NO</th>\n",
       "      <th>ADDRESS</th>\n",
       "      <th>content</th>\n",
       "    </tr>\n",
       "  </thead>\n",
       "  <tbody>\n",
       "  </tbody>\n",
       "</table>\n",
       "</div>"
      ],
      "text/plain": [
       "Empty DataFrame\n",
       "Columns: [trprId, TITLE, TITLE_LINK, SUB_TITLE, SUB_TITLE_LINK, TEL_NO, ADDRESS, content]\n",
       "Index: []"
      ]
     },
     "execution_count": 22,
     "metadata": {},
     "output_type": "execute_result"
    }
   ],
   "source": [
    "edu_df"
   ]
  }
 ],
 "metadata": {
  "kernelspec": {
   "display_name": "base",
   "language": "python",
   "name": "python3"
  },
  "language_info": {
   "codemirror_mode": {
    "name": "ipython",
    "version": 3
   },
   "file_extension": ".py",
   "mimetype": "text/x-python",
   "name": "python",
   "nbconvert_exporter": "python",
   "pygments_lexer": "ipython3",
   "version": "3.11.3"
  },
  "orig_nbformat": 4
 },
 "nbformat": 4,
 "nbformat_minor": 2
}
